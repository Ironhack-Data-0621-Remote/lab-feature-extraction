{
 "cells": [
  {
   "cell_type": "markdown",
   "id": "745e3feb",
   "metadata": {},
   "source": [
    "# Lab | Feature extraction"
   ]
  },
  {
   "cell_type": "markdown",
   "id": "3fd52a2e",
   "metadata": {},
   "source": [
    "For this lab, we will be using the same dataset we used in the previous labs. We recommend using the same notebook since you will be reusing the same variables you previous created and used in labs."
   ]
  },
  {
   "cell_type": "markdown",
   "id": "ea0e416e",
   "metadata": {},
   "source": [
    "## 1. Open the categoricals variable we created before."
   ]
  },
  {
   "cell_type": "markdown",
   "id": "c9f99f9c",
   "metadata": {},
   "source": [
    "``` python\n",
    "categoricals = data.select_dtypes(np.object)\n",
    "categoricals.head()\n",
    "```\n"
   ]
  },
  {
   "cell_type": "code",
   "execution_count": null,
   "id": "a940d7f4",
   "metadata": {},
   "outputs": [],
   "source": []
  },
  {
   "cell_type": "markdown",
   "id": "9d70f0bb",
   "metadata": {},
   "source": [
    "## 2. Plot all the categorical variables with the proper plot. What can you see?"
   ]
  },
  {
   "cell_type": "code",
   "execution_count": null,
   "id": "2f1ee0e6",
   "metadata": {},
   "outputs": [],
   "source": []
  },
  {
   "cell_type": "markdown",
   "id": "eb53ba12",
   "metadata": {},
   "source": [
    "## 3. There might be some columns that seem to be redundant, check their values to be sure. What should we do with them?"
   ]
  },
  {
   "cell_type": "code",
   "execution_count": null,
   "id": "23b74cfa",
   "metadata": {},
   "outputs": [],
   "source": []
  },
  {
   "cell_type": "markdown",
   "id": "eec473f0",
   "metadata": {},
   "source": [
    "## 4. Plot time variable. Can you extract something from it?"
   ]
  },
  {
   "cell_type": "code",
   "execution_count": null,
   "id": "c5870a45",
   "metadata": {},
   "outputs": [],
   "source": []
  }
 ],
 "metadata": {
  "kernelspec": {
   "display_name": "Python 3",
   "language": "python",
   "name": "python3"
  },
  "language_info": {
   "codemirror_mode": {
    "name": "ipython",
    "version": 3
   },
   "file_extension": ".py",
   "mimetype": "text/x-python",
   "name": "python",
   "nbconvert_exporter": "python",
   "pygments_lexer": "ipython3",
   "version": "3.8.8"
  }
 },
 "nbformat": 4,
 "nbformat_minor": 5
}
